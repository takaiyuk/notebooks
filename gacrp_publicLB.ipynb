{
 "cells": [
  {
   "cell_type": "code",
   "execution_count": 103,
   "metadata": {},
   "outputs": [],
   "source": [
    "import numpy as np\n",
    "import pandas as pd\n",
    "from bs4 import BeautifulSoup\n",
    "import matplotlib.pyplot as plt\n",
    "import seaborn as sns; sns.set()\n",
    "%matplotlib inline\n",
    "# plt.style.use('dark_background')"
   ]
  },
  {
   "cell_type": "code",
   "execution_count": 23,
   "metadata": {},
   "outputs": [],
   "source": [
    "with open(\"dataset/gacrp-publicLB.html\") as f:\n",
    "    html = f.read()\n",
    "soup = BeautifulSoup(html)\n",
    "\n",
    "# for i, row in enumerate(soup.findAll('tr')):\n",
    "#     if i==0:\n",
    "#         for element in row:\n",
    "#             print(element)"
   ]
  },
  {
   "cell_type": "code",
   "execution_count": 76,
   "metadata": {},
   "outputs": [
    {
     "data": {
      "text/html": [
       "<div>\n",
       "<style scoped>\n",
       "    .dataframe tbody tr th:only-of-type {\n",
       "        vertical-align: middle;\n",
       "    }\n",
       "\n",
       "    .dataframe tbody tr th {\n",
       "        vertical-align: top;\n",
       "    }\n",
       "\n",
       "    .dataframe thead th {\n",
       "        text-align: right;\n",
       "    }\n",
       "</style>\n",
       "<table border=\"1\" class=\"dataframe\">\n",
       "  <thead>\n",
       "    <tr style=\"text-align: right;\">\n",
       "      <th></th>\n",
       "      <th>Rank</th>\n",
       "      <th>Change</th>\n",
       "      <th>TeamName</th>\n",
       "      <th>Kernel</th>\n",
       "      <th>TeamMembers</th>\n",
       "      <th>Score</th>\n",
       "      <th>NumberOfEntries</th>\n",
       "      <th>LastEntry</th>\n",
       "    </tr>\n",
       "  </thead>\n",
       "  <tbody>\n",
       "    <tr>\n",
       "      <th>0</th>\n",
       "      <td>1</td>\n",
       "      <td>new</td>\n",
       "      <td>Marwen Sallem</td>\n",
       "      <td>None</td>\n",
       "      <td>None</td>\n",
       "      <td>0.0</td>\n",
       "      <td>2</td>\n",
       "      <td>7d</td>\n",
       "    </tr>\n",
       "    <tr>\n",
       "      <th>1</th>\n",
       "      <td>2</td>\n",
       "      <td>new</td>\n",
       "      <td>Paulo Pinto</td>\n",
       "      <td>None</td>\n",
       "      <td>None</td>\n",
       "      <td>0.0</td>\n",
       "      <td>8</td>\n",
       "      <td>8h</td>\n",
       "    </tr>\n",
       "    <tr>\n",
       "      <th>2</th>\n",
       "      <td>3</td>\n",
       "      <td>new</td>\n",
       "      <td>Gautam</td>\n",
       "      <td>None</td>\n",
       "      <td>None</td>\n",
       "      <td>0.0</td>\n",
       "      <td>2</td>\n",
       "      <td>6d</td>\n",
       "    </tr>\n",
       "  </tbody>\n",
       "</table>\n",
       "</div>"
      ],
      "text/plain": [
       "   Rank Change       TeamName Kernel TeamMembers  Score  NumberOfEntries  \\\n",
       "0     1    new  Marwen Sallem   None        None    0.0                2   \n",
       "1     2    new    Paulo Pinto   None        None    0.0                8   \n",
       "2     3    new         Gautam   None        None    0.0                2   \n",
       "\n",
       "  LastEntry  \n",
       "0       7d   \n",
       "1       8h   \n",
       "2       6d   "
      ]
     },
     "execution_count": 76,
     "metadata": {},
     "output_type": "execute_result"
    }
   ],
   "source": [
    "cols = ['Rank', 'Change', 'TeamName', 'Kernel', \n",
    "        'TeamMembers', 'Score', 'NumberOfEntries', 'LastEntry']\n",
    "\n",
    "contents = []\n",
    "for i, row in enumerate(soup.findAll('tr')):\n",
    "    row_list = row.findAll(\"td\")  \n",
    "    if len(row_list) == 8:\n",
    "        for element in row_list:\n",
    "            contents += [element.string]\n",
    "        \n",
    "data = pd.DataFrame(data = np.array(contents).reshape(int(len(contents)/8), len(cols)),\n",
    "                    columns = cols).astype({\"Rank\": int, \"Score\": float, \"NumberOfEntries\": int})\n",
    "data.head(3)"
   ]
  },
  {
   "cell_type": "code",
   "execution_count": 105,
   "metadata": {},
   "outputs": [
    {
     "name": "stdout",
     "output_type": "stream",
     "text": [
      "The number of the teams who submit only one submission, whose score is zero: 177\n",
      "The number of the teams who score zero: 271\n"
     ]
    }
   ],
   "source": [
    "num_team_zero_oneshot = data[(data[\"Score\"] == 0) & (data[\"NumberOfEntries\"]==1)].shape[0]\n",
    "num_team_zero_all =  data[(data[\"Score\"] == 0)].shape[0]\n",
    "print(\"The number of the teams who submit only one submission, whose score is zero:\", num_team_zero_oneshot)\n",
    "print(\"The number of the teams who score zero:\", num_team_zero_all)"
   ]
  },
  {
   "cell_type": "code",
   "execution_count": 107,
   "metadata": {},
   "outputs": [
    {
     "data": {
      "image/png": "[encoded data removed]",
      "text/plain": [
       "<Figure size 432x288 with 1 Axes>"
      ]
     },
     "metadata": {},
     "output_type": "display_data"
    }
   ],
   "source": [
    "score_zero_subit_num = data[(data[\"Score\"] == 0)][\"NumberOfEntries\"].value_counts().to_frame().reset_index()\n",
    "score_zero_subit_num.rename(columns={\"index\": \"NumberOfEntries\", \"NumberOfEntries\": \"Count\"}, inplace=True)\n",
    "\n",
    "ax = sns.barplot(x=\"NumberOfEntries\", y=\"Count\", data=score_zero_subit_num)\n",
    "plt.show()"
   ]
  },
  {
   "cell_type": "code",
   "execution_count": null,
   "metadata": {},
   "outputs": [],
   "source": []
  }
 ],
 "metadata": {
  "kernelspec": {
   "display_name": "Python 3",
   "language": "python",
   "name": "python3"
  },
  "language_info": {
   "codemirror_mode": {
    "name": "ipython",
    "version": 3
   },
   "file_extension": ".py",
   "mimetype": "text/x-python",
   "name": "python",
   "nbconvert_exporter": "python",
   "pygments_lexer": "ipython3",
   "version": "3.6.2"
  }
 },
 "nbformat": 4,
 "nbformat_minor": 2
}
