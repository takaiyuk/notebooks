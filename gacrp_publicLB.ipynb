{
 "cells": [
  {
   "cell_type": "code",
   "execution_count": 1,
   "metadata": {},
   "outputs": [],
   "source": [
    "import numpy as np\n",
    "import pandas as pd\n",
    "from bs4 import BeautifulSoup\n",
    "import matplotlib.pyplot as plt\n",
    "import seaborn as sns; sns.set()\n",
    "%matplotlib inline\n",
    "plt.style.use('dark_background')"
   ]
  },
  {
   "cell_type": "code",
   "execution_count": 2,
   "metadata": {},
   "outputs": [
    {
     "name": "stdout",
     "output_type": "stream",
     "text": [
      "2018/11/30 181130\n"
     ]
    }
   ],
   "source": [
    "from datetime import datetime\n",
    "dt_now = datetime.now()\n",
    "yyyy = str(dt_now.year)\n",
    "yy = yyyy[2:]\n",
    "mm = str(dt_now.month)\n",
    "mm = \"0\"+mm if len(mm)==1 else mm\n",
    "dd = str(dt_now.day)\n",
    "dd = \"0\"+dd if len(mm)==1 else dd\n",
    "\n",
    "yyyymmdd = \"{}/{}/{}\".format(yyyy, mm, dd)\n",
    "yymmdd = yy+mm+dd\n",
    "print(yyyymmdd, yymmdd)"
   ]
  },
  {
   "cell_type": "code",
   "execution_count": 3,
   "metadata": {},
   "outputs": [],
   "source": [
    "with open(\"dataset/gacrp-publicLB-{}.html\".format(yymmdd)) as f:\n",
    "    html = f.read()\n",
    "soup = BeautifulSoup(html, \"lxml\")\n",
    "\n",
    "# for i, row in enumerate(soup.findAll('tr')):\n",
    "#     if i==0:\n",
    "#         for element in row:\n",
    "#             print(element)"
   ]
  },
  {
   "cell_type": "code",
   "execution_count": 4,
   "metadata": {},
   "outputs": [
    {
     "data": {
      "text/html": [
       "<div>\n",
       "<style scoped>\n",
       "    .dataframe tbody tr th:only-of-type {\n",
       "        vertical-align: middle;\n",
       "    }\n",
       "\n",
       "    .dataframe tbody tr th {\n",
       "        vertical-align: top;\n",
       "    }\n",
       "\n",
       "    .dataframe thead th {\n",
       "        text-align: right;\n",
       "    }\n",
       "</style>\n",
       "<table border=\"1\" class=\"dataframe\">\n",
       "  <thead>\n",
       "    <tr style=\"text-align: right;\">\n",
       "      <th></th>\n",
       "      <th>Rank</th>\n",
       "      <th>Change</th>\n",
       "      <th>TeamName</th>\n",
       "      <th>Kernel</th>\n",
       "      <th>TeamMembers</th>\n",
       "      <th>Score</th>\n",
       "      <th>NumberOfEntries</th>\n",
       "      <th>LastEntry</th>\n",
       "    </tr>\n",
       "  </thead>\n",
       "  <tbody>\n",
       "    <tr>\n",
       "      <th>0</th>\n",
       "      <td>1</td>\n",
       "      <td>—</td>\n",
       "      <td>Marwen Sallem</td>\n",
       "      <td>None</td>\n",
       "      <td>None</td>\n",
       "      <td>0.0</td>\n",
       "      <td>2</td>\n",
       "      <td>21d</td>\n",
       "    </tr>\n",
       "    <tr>\n",
       "      <th>1</th>\n",
       "      <td>2</td>\n",
       "      <td>—</td>\n",
       "      <td>Paulo Pinto</td>\n",
       "      <td>None</td>\n",
       "      <td>None</td>\n",
       "      <td>0.0</td>\n",
       "      <td>12</td>\n",
       "      <td>1h</td>\n",
       "    </tr>\n",
       "    <tr>\n",
       "      <th>2</th>\n",
       "      <td>3</td>\n",
       "      <td>—</td>\n",
       "      <td>Gautam</td>\n",
       "      <td>None</td>\n",
       "      <td>None</td>\n",
       "      <td>0.0</td>\n",
       "      <td>6</td>\n",
       "      <td>9d</td>\n",
       "    </tr>\n",
       "  </tbody>\n",
       "</table>\n",
       "</div>"
      ],
      "text/plain": [
       "   Rank Change       TeamName Kernel TeamMembers  Score  NumberOfEntries  \\\n",
       "0     1      —  Marwen Sallem   None        None    0.0                2   \n",
       "1     2      —    Paulo Pinto   None        None    0.0               12   \n",
       "2     3      —         Gautam   None        None    0.0                6   \n",
       "\n",
       "  LastEntry  \n",
       "0      21d   \n",
       "1       1h   \n",
       "2       9d   "
      ]
     },
     "execution_count": 4,
     "metadata": {},
     "output_type": "execute_result"
    }
   ],
   "source": [
    "cols = ['Rank', 'Change', 'TeamName', 'Kernel', \n",
    "        'TeamMembers', 'Score', 'NumberOfEntries', 'LastEntry']\n",
    "\n",
    "contents = []\n",
    "for i, row in enumerate(soup.findAll('tr')):\n",
    "    row_list = row.findAll(\"td\")  \n",
    "    if len(row_list) == 8:\n",
    "        for element in row_list:\n",
    "            contents += [element.string]\n",
    "        \n",
    "data = pd.DataFrame(data = np.array(contents).reshape(int(len(contents)/8), len(cols)),\n",
    "                    columns = cols).astype({\"Rank\": int, \"Score\": float, \"NumberOfEntries\": int})\n",
    "data.head(3)"
   ]
  },
  {
   "cell_type": "code",
   "execution_count": 5,
   "metadata": {},
   "outputs": [
    {
     "name": "stdout",
     "output_type": "stream",
     "text": [
      "The number of the teams who submit only one submission whose score is zero: 217\n",
      "The number of the teams whose score is zero: 478\n"
     ]
    }
   ],
   "source": [
    "num_team_zero_oneshot = data[(data[\"Score\"] == 0) & (data[\"NumberOfEntries\"]==1)].shape[0]\n",
    "num_team_zero_all =  data[(data[\"Score\"] == 0)].shape[0]\n",
    "print(\"The number of the teams who submit only one submission whose score is zero:\", num_team_zero_oneshot)\n",
    "print(\"The number of the teams whose score is zero:\", num_team_zero_all)"
   ]
  },
  {
   "cell_type": "code",
   "execution_count": 10,
   "metadata": {},
   "outputs": [
    {
     "data": {
      "image/png": "[encoded data removed]",
      "text/plain": [
       "<Figure size 504x360 with 1 Axes>"
      ]
     },
     "metadata": {},
     "output_type": "display_data"
    }
   ],
   "source": [
    "score_zero_subit_num = data[(data[\"Score\"] == 0)][\"NumberOfEntries\"].value_counts().to_frame().reset_index()\n",
    "score_zero_subit_num.rename(columns={\"index\": \"NumberOfEntries\", \"NumberOfEntries\": \"Count\"}, inplace=True)\n",
    "\n",
    "plt.figure(figsize=(7,5))\n",
    "ax = sns.barplot(x=\"NumberOfEntries\", y=\"Count\", data=score_zero_subit_num)\n",
    "plt.title(\"Number of the teams whose score is zero on {}\".format(yyyymmdd))\n",
    "plt.savefig(\"output/score-zero-chart-{}.png\".format(yymmdd), dpi=300)\n",
    "plt.show()"
   ]
  },
  {
   "cell_type": "code",
   "execution_count": 7,
   "metadata": {},
   "outputs": [
    {
     "data": {
      "text/html": [
       "<div>\n",
       "<style scoped>\n",
       "    .dataframe tbody tr th:only-of-type {\n",
       "        vertical-align: middle;\n",
       "    }\n",
       "\n",
       "    .dataframe tbody tr th {\n",
       "        vertical-align: top;\n",
       "    }\n",
       "\n",
       "    .dataframe thead th {\n",
       "        text-align: right;\n",
       "    }\n",
       "</style>\n",
       "<table border=\"1\" class=\"dataframe\">\n",
       "  <thead>\n",
       "    <tr style=\"text-align: right;\">\n",
       "      <th></th>\n",
       "      <th>NumberOfEntries</th>\n",
       "      <th>Count</th>\n",
       "    </tr>\n",
       "  </thead>\n",
       "  <tbody>\n",
       "    <tr>\n",
       "      <th>0</th>\n",
       "      <td>1</td>\n",
       "      <td>217</td>\n",
       "    </tr>\n",
       "    <tr>\n",
       "      <th>1</th>\n",
       "      <td>2</td>\n",
       "      <td>88</td>\n",
       "    </tr>\n",
       "    <tr>\n",
       "      <th>2</th>\n",
       "      <td>3</td>\n",
       "      <td>51</td>\n",
       "    </tr>\n",
       "    <tr>\n",
       "      <th>3</th>\n",
       "      <td>4</td>\n",
       "      <td>30</td>\n",
       "    </tr>\n",
       "    <tr>\n",
       "      <th>4</th>\n",
       "      <td>5</td>\n",
       "      <td>24</td>\n",
       "    </tr>\n",
       "    <tr>\n",
       "      <th>5</th>\n",
       "      <td>6</td>\n",
       "      <td>15</td>\n",
       "    </tr>\n",
       "    <tr>\n",
       "      <th>6</th>\n",
       "      <td>7</td>\n",
       "      <td>14</td>\n",
       "    </tr>\n",
       "    <tr>\n",
       "      <th>7</th>\n",
       "      <td>9</td>\n",
       "      <td>9</td>\n",
       "    </tr>\n",
       "    <tr>\n",
       "      <th>8</th>\n",
       "      <td>10</td>\n",
       "      <td>6</td>\n",
       "    </tr>\n",
       "    <tr>\n",
       "      <th>9</th>\n",
       "      <td>13</td>\n",
       "      <td>6</td>\n",
       "    </tr>\n",
       "    <tr>\n",
       "      <th>10</th>\n",
       "      <td>8</td>\n",
       "      <td>5</td>\n",
       "    </tr>\n",
       "    <tr>\n",
       "      <th>11</th>\n",
       "      <td>12</td>\n",
       "      <td>3</td>\n",
       "    </tr>\n",
       "    <tr>\n",
       "      <th>12</th>\n",
       "      <td>11</td>\n",
       "      <td>2</td>\n",
       "    </tr>\n",
       "    <tr>\n",
       "      <th>13</th>\n",
       "      <td>16</td>\n",
       "      <td>2</td>\n",
       "    </tr>\n",
       "    <tr>\n",
       "      <th>14</th>\n",
       "      <td>26</td>\n",
       "      <td>1</td>\n",
       "    </tr>\n",
       "    <tr>\n",
       "      <th>15</th>\n",
       "      <td>14</td>\n",
       "      <td>1</td>\n",
       "    </tr>\n",
       "    <tr>\n",
       "      <th>16</th>\n",
       "      <td>18</td>\n",
       "      <td>1</td>\n",
       "    </tr>\n",
       "    <tr>\n",
       "      <th>17</th>\n",
       "      <td>19</td>\n",
       "      <td>1</td>\n",
       "    </tr>\n",
       "    <tr>\n",
       "      <th>18</th>\n",
       "      <td>20</td>\n",
       "      <td>1</td>\n",
       "    </tr>\n",
       "    <tr>\n",
       "      <th>19</th>\n",
       "      <td>38</td>\n",
       "      <td>1</td>\n",
       "    </tr>\n",
       "  </tbody>\n",
       "</table>\n",
       "</div>"
      ],
      "text/plain": [
       "    NumberOfEntries  Count\n",
       "0                 1    217\n",
       "1                 2     88\n",
       "2                 3     51\n",
       "3                 4     30\n",
       "4                 5     24\n",
       "5                 6     15\n",
       "6                 7     14\n",
       "7                 9      9\n",
       "8                10      6\n",
       "9                13      6\n",
       "10                8      5\n",
       "11               12      3\n",
       "12               11      2\n",
       "13               16      2\n",
       "14               26      1\n",
       "15               14      1\n",
       "16               18      1\n",
       "17               19      1\n",
       "18               20      1\n",
       "19               38      1"
      ]
     },
     "execution_count": 7,
     "metadata": {},
     "output_type": "execute_result"
    }
   ],
   "source": [
    "score_zero_subit_num"
   ]
  },
  {
   "cell_type": "code",
   "execution_count": 8,
   "metadata": {},
   "outputs": [
    {
     "name": "stdout",
     "output_type": "stream",
     "text": [
      "The number of the teams who submit only one submission whose score is 2.1138(all predict value is 0): 64\n",
      "The number of the teams whose score is 2.1138: 79\n"
     ]
    }
   ],
   "source": [
    "all_zero_score = 2.1138\n",
    "\n",
    "num_team_zero_oneshot = data[(data[\"Score\"] == all_zero_score) & (data[\"NumberOfEntries\"]==1)].shape[0]\n",
    "num_team_zero_all =  data[(data[\"Score\"] == all_zero_score)].shape[0]\n",
    "print(\"The number of the teams who submit only one submission whose score is 2.1138(all predict value is 0):\", num_team_zero_oneshot)\n",
    "print(\"The number of the teams whose score is 2.1138:\", num_team_zero_all)"
   ]
  },
  {
   "cell_type": "code",
   "execution_count": 20,
   "metadata": {},
   "outputs": [
    {
     "data": {
      "image/png": "[encoded data removed]",
      "text/plain": [
       "<Figure size 504x360 with 1 Axes>"
      ]
     },
     "metadata": {},
     "output_type": "display_data"
    }
   ],
   "source": [
    "all_zero_subit_num = data[(data[\"Score\"] == all_zero_score)][\"NumberOfEntries\"].value_counts().to_frame().reset_index()\n",
    "all_zero_subit_num.rename(columns={\"index\": \"NumberOfEntries\", \"NumberOfEntries\": \"Count\"}, inplace=True)\n",
    "\n",
    "plt.figure(figsize=(7,5))\n",
    "ax = sns.barplot(x=\"NumberOfEntries\", y=\"Count\", data=all_zero_subit_num)\n",
    "plt.title(\"Number of the teams whose predict values are all zero on {}\".format(yyyymmdd))\n",
    "plt.savefig(\"output/all-zero-chart-{}.png\".format(yymmdd), dpi=300)\n",
    "plt.show()"
   ]
  },
  {
   "cell_type": "markdown",
   "metadata": {},
   "source": [
    "---"
   ]
  },
  {
   "cell_type": "code",
   "execution_count": 25,
   "metadata": {},
   "outputs": [
    {
     "data": {
      "image/png": "[encoded data removed]",
      "text/plain": [
       "<Figure size 1152x432 with 2 Axes>"
      ]
     },
     "metadata": {},
     "output_type": "display_data"
    }
   ],
   "source": [
    "fig,ax = plt.subplots(1,2,figsize=(16,6))\n",
    "\n",
    "sns.barplot(x=\"NumberOfEntries\", y=\"Count\", data=score_zero_subit_num, ax=ax[0])\n",
    "ax[0].set_title(\"Number of the Teams Whose Score is Zero on {}\".format(yyyymmdd))\n",
    "\n",
    "sns.barplot(x=\"NumberOfEntries\", y=\"Count\", data=all_zero_subit_num, ax=ax[1])\n",
    "ax[1].set_title(\"Number of the Teams Whose Predict Values are All Zero on {}\".format(yyyymmdd))\n",
    "\n",
    "plt.savefig(\"output/GACRP-LB-Chart-{}.png\".format(yymmdd), dpi=300)\n",
    "plt.show()"
   ]
  },
  {
   "cell_type": "code",
   "execution_count": null,
   "metadata": {},
   "outputs": [],
   "source": []
  }
 ],
 "metadata": {
  "kernelspec": {
   "display_name": "Python 3",
   "language": "python",
   "name": "python3"
  },
  "language_info": {
   "codemirror_mode": {
    "name": "ipython",
    "version": 3
   },
   "file_extension": ".py",
   "mimetype": "text/x-python",
   "name": "python",
   "nbconvert_exporter": "python",
   "pygments_lexer": "ipython3",
   "version": "3.6.2"
  }
 },
 "nbformat": 4,
 "nbformat_minor": 2
}
