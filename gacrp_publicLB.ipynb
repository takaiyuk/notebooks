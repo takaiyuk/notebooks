{
 "cells": [
  {
   "cell_type": "code",
   "execution_count": 10,
   "metadata": {},
   "outputs": [],
   "source": [
    "import numpy as np\n",
    "import pandas as pd\n",
    "from bs4 import BeautifulSoup\n",
    "import matplotlib.pyplot as plt\n",
    "import seaborn as sns; sns.set()\n",
    "%matplotlib inline\n",
    "plt.style.use('dark_background')"
   ]
  },
  {
   "cell_type": "code",
   "execution_count": 11,
   "metadata": {},
   "outputs": [
    {
     "name": "stdout",
     "output_type": "stream",
     "text": [
      "2018/11/25 181125\n"
     ]
    }
   ],
   "source": [
    "from datetime import datetime\n",
    "dt_now = datetime.now()\n",
    "yyyy = str(dt_now.year)\n",
    "yy = yyyy[2:]\n",
    "mm = str(dt_now.month)\n",
    "mm = \"0\"+mm if len(mm)==1 else mm\n",
    "dd = str(dt_now.day)\n",
    "dd = \"0\"+dd if len(mm)==1 else dd\n",
    "\n",
    "yyyymmdd = \"{}/{}/{}\".format(yyyy, mm, dd)\n",
    "yymmdd = yy+mm+dd\n",
    "print(yyyymmdd, yymmdd)"
   ]
  },
  {
   "cell_type": "code",
   "execution_count": 12,
   "metadata": {},
   "outputs": [],
   "source": [
    "with open(\"dataset/gacrp-publicLB-{}.html\".format(yymmdd)) as f:\n",
    "    html = f.read()\n",
    "soup = BeautifulSoup(html, \"lxml\")\n",
    "\n",
    "# for i, row in enumerate(soup.findAll('tr')):\n",
    "#     if i==0:\n",
    "#         for element in row:\n",
    "#             print(element)"
   ]
  },
  {
   "cell_type": "code",
   "execution_count": 13,
   "metadata": {},
   "outputs": [
    {
     "data": {
      "text/html": [
       "<div>\n",
       "<style scoped>\n",
       "    .dataframe tbody tr th:only-of-type {\n",
       "        vertical-align: middle;\n",
       "    }\n",
       "\n",
       "    .dataframe tbody tr th {\n",
       "        vertical-align: top;\n",
       "    }\n",
       "\n",
       "    .dataframe thead th {\n",
       "        text-align: right;\n",
       "    }\n",
       "</style>\n",
       "<table border=\"1\" class=\"dataframe\">\n",
       "  <thead>\n",
       "    <tr style=\"text-align: right;\">\n",
       "      <th></th>\n",
       "      <th>Rank</th>\n",
       "      <th>Change</th>\n",
       "      <th>TeamName</th>\n",
       "      <th>Kernel</th>\n",
       "      <th>TeamMembers</th>\n",
       "      <th>Score</th>\n",
       "      <th>NumberOfEntries</th>\n",
       "      <th>LastEntry</th>\n",
       "    </tr>\n",
       "  </thead>\n",
       "  <tbody>\n",
       "    <tr>\n",
       "      <th>0</th>\n",
       "      <td>1</td>\n",
       "      <td>—</td>\n",
       "      <td>Marwen Sallem</td>\n",
       "      <td>None</td>\n",
       "      <td>None</td>\n",
       "      <td>0.0</td>\n",
       "      <td>2</td>\n",
       "      <td>16d</td>\n",
       "    </tr>\n",
       "    <tr>\n",
       "      <th>1</th>\n",
       "      <td>2</td>\n",
       "      <td>—</td>\n",
       "      <td>Paulo Pinto</td>\n",
       "      <td>None</td>\n",
       "      <td>None</td>\n",
       "      <td>0.0</td>\n",
       "      <td>8</td>\n",
       "      <td>9d</td>\n",
       "    </tr>\n",
       "    <tr>\n",
       "      <th>2</th>\n",
       "      <td>3</td>\n",
       "      <td>—</td>\n",
       "      <td>Gautam</td>\n",
       "      <td>None</td>\n",
       "      <td>None</td>\n",
       "      <td>0.0</td>\n",
       "      <td>6</td>\n",
       "      <td>3d</td>\n",
       "    </tr>\n",
       "  </tbody>\n",
       "</table>\n",
       "</div>"
      ],
      "text/plain": [
       "   Rank Change       TeamName Kernel TeamMembers  Score  NumberOfEntries  \\\n",
       "0     1      —  Marwen Sallem   None        None    0.0                2   \n",
       "1     2      —    Paulo Pinto   None        None    0.0                8   \n",
       "2     3      —         Gautam   None        None    0.0                6   \n",
       "\n",
       "  LastEntry  \n",
       "0      16d   \n",
       "1       9d   \n",
       "2       3d   "
      ]
     },
     "execution_count": 13,
     "metadata": {},
     "output_type": "execute_result"
    }
   ],
   "source": [
    "cols = ['Rank', 'Change', 'TeamName', 'Kernel', \n",
    "        'TeamMembers', 'Score', 'NumberOfEntries', 'LastEntry']\n",
    "\n",
    "contents = []\n",
    "for i, row in enumerate(soup.findAll('tr')):\n",
    "    row_list = row.findAll(\"td\")  \n",
    "    if len(row_list) == 8:\n",
    "        for element in row_list:\n",
    "            contents += [element.string]\n",
    "        \n",
    "data = pd.DataFrame(data = np.array(contents).reshape(int(len(contents)/8), len(cols)),\n",
    "                    columns = cols).astype({\"Rank\": int, \"Score\": float, \"NumberOfEntries\": int})\n",
    "data.head(3)"
   ]
  },
  {
   "cell_type": "code",
   "execution_count": 14,
   "metadata": {},
   "outputs": [
    {
     "name": "stdout",
     "output_type": "stream",
     "text": [
      "The number of the teams who submit only one submission whose score is zero: 226\n",
      "The number of the teams whose score is zero: 404\n"
     ]
    }
   ],
   "source": [
    "num_team_zero_oneshot = data[(data[\"Score\"] == 0) & (data[\"NumberOfEntries\"]==1)].shape[0]\n",
    "num_team_zero_all =  data[(data[\"Score\"] == 0)].shape[0]\n",
    "print(\"The number of the teams who submit only one submission whose score is zero:\", num_team_zero_oneshot)\n",
    "print(\"The number of the teams whose score is zero:\", num_team_zero_all)"
   ]
  },
  {
   "cell_type": "code",
   "execution_count": 15,
   "metadata": {},
   "outputs": [
    {
     "data": {
      "image/png": "[encoded data removed]",
      "text/plain": [
       "<Figure size 504x360 with 1 Axes>"
      ]
     },
     "metadata": {},
     "output_type": "display_data"
    }
   ],
   "source": [
    "score_zero_subit_num = data[(data[\"Score\"] == 0)][\"NumberOfEntries\"].value_counts().to_frame().reset_index()\n",
    "score_zero_subit_num.rename(columns={\"index\": \"NumberOfEntries\", \"NumberOfEntries\": \"Count\"}, inplace=True)\n",
    "\n",
    "plt.figure(figsize=(7,5))\n",
    "ax = sns.barplot(x=\"NumberOfEntries\", y=\"Count\", data=score_zero_subit_num)\n",
    "plt.title(\"The number of the teams whose score is zero on {}\".format(yyyymmdd))\n",
    "plt.savefig(\"output/score-zero-chart-{}.png\".format(yymmdd), dpi=300)\n",
    "plt.show()"
   ]
  },
  {
   "cell_type": "code",
   "execution_count": 16,
   "metadata": {},
   "outputs": [
    {
     "data": {
      "text/html": [
       "<div>\n",
       "<style scoped>\n",
       "    .dataframe tbody tr th:only-of-type {\n",
       "        vertical-align: middle;\n",
       "    }\n",
       "\n",
       "    .dataframe tbody tr th {\n",
       "        vertical-align: top;\n",
       "    }\n",
       "\n",
       "    .dataframe thead th {\n",
       "        text-align: right;\n",
       "    }\n",
       "</style>\n",
       "<table border=\"1\" class=\"dataframe\">\n",
       "  <thead>\n",
       "    <tr style=\"text-align: right;\">\n",
       "      <th></th>\n",
       "      <th>NumberOfEntries</th>\n",
       "      <th>Count</th>\n",
       "    </tr>\n",
       "  </thead>\n",
       "  <tbody>\n",
       "    <tr>\n",
       "      <th>0</th>\n",
       "      <td>1</td>\n",
       "      <td>226</td>\n",
       "    </tr>\n",
       "    <tr>\n",
       "      <th>1</th>\n",
       "      <td>2</td>\n",
       "      <td>75</td>\n",
       "    </tr>\n",
       "    <tr>\n",
       "      <th>2</th>\n",
       "      <td>3</td>\n",
       "      <td>35</td>\n",
       "    </tr>\n",
       "    <tr>\n",
       "      <th>3</th>\n",
       "      <td>5</td>\n",
       "      <td>20</td>\n",
       "    </tr>\n",
       "    <tr>\n",
       "      <th>4</th>\n",
       "      <td>4</td>\n",
       "      <td>19</td>\n",
       "    </tr>\n",
       "    <tr>\n",
       "      <th>5</th>\n",
       "      <td>8</td>\n",
       "      <td>6</td>\n",
       "    </tr>\n",
       "    <tr>\n",
       "      <th>6</th>\n",
       "      <td>6</td>\n",
       "      <td>6</td>\n",
       "    </tr>\n",
       "    <tr>\n",
       "      <th>7</th>\n",
       "      <td>9</td>\n",
       "      <td>4</td>\n",
       "    </tr>\n",
       "    <tr>\n",
       "      <th>8</th>\n",
       "      <td>7</td>\n",
       "      <td>4</td>\n",
       "    </tr>\n",
       "    <tr>\n",
       "      <th>9</th>\n",
       "      <td>13</td>\n",
       "      <td>3</td>\n",
       "    </tr>\n",
       "    <tr>\n",
       "      <th>10</th>\n",
       "      <td>11</td>\n",
       "      <td>2</td>\n",
       "    </tr>\n",
       "    <tr>\n",
       "      <th>11</th>\n",
       "      <td>31</td>\n",
       "      <td>1</td>\n",
       "    </tr>\n",
       "    <tr>\n",
       "      <th>12</th>\n",
       "      <td>26</td>\n",
       "      <td>1</td>\n",
       "    </tr>\n",
       "    <tr>\n",
       "      <th>13</th>\n",
       "      <td>18</td>\n",
       "      <td>1</td>\n",
       "    </tr>\n",
       "    <tr>\n",
       "      <th>14</th>\n",
       "      <td>12</td>\n",
       "      <td>1</td>\n",
       "    </tr>\n",
       "  </tbody>\n",
       "</table>\n",
       "</div>"
      ],
      "text/plain": [
       "    NumberOfEntries  Count\n",
       "0                 1    226\n",
       "1                 2     75\n",
       "2                 3     35\n",
       "3                 5     20\n",
       "4                 4     19\n",
       "5                 8      6\n",
       "6                 6      6\n",
       "7                 9      4\n",
       "8                 7      4\n",
       "9                13      3\n",
       "10               11      2\n",
       "11               31      1\n",
       "12               26      1\n",
       "13               18      1\n",
       "14               12      1"
      ]
     },
     "execution_count": 16,
     "metadata": {},
     "output_type": "execute_result"
    }
   ],
   "source": [
    "score_zero_subit_num"
   ]
  },
  {
   "cell_type": "code",
   "execution_count": null,
   "metadata": {},
   "outputs": [],
   "source": []
  }
 ],
 "metadata": {
  "kernelspec": {
   "display_name": "Python 3",
   "language": "python",
   "name": "python3"
  },
  "language_info": {
   "codemirror_mode": {
    "name": "ipython",
    "version": 3
   },
   "file_extension": ".py",
   "mimetype": "text/x-python",
   "name": "python",
   "nbconvert_exporter": "python",
   "pygments_lexer": "ipython3",
   "version": "3.6.2"
  }
 },
 "nbformat": 4,
 "nbformat_minor": 2
}
